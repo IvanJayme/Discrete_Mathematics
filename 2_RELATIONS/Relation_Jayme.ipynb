{
 "cells": [
  {
   "cell_type": "markdown",
   "id": "3dd0c5aa-a3c2-4311-85e2-70d6ef8136f2",
   "metadata": {},
   "source": [
    "# Create a function that determines if its transitive or not"
   ]
  },
  {
   "cell_type": "code",
   "execution_count": 17,
   "id": "ec7dd8a1-802b-4054-9c75-7ee6987e7a4f",
   "metadata": {},
   "outputs": [
    {
     "name": "stdout",
     "output_type": "stream",
     "text": [
      "Is relation S transitive? False\n",
      "Is relation R transitive? True\n"
     ]
    }
   ],
   "source": [
    "def is_transitive(relation):\n",
    "    for (a, b) in relation:\n",
    "        for (c, d) in relation:\n",
    "            if b == c and (a, d) not in relation:\n",
    "                return False\n",
    "    return True\n",
    "\n",
    "# Ex.\n",
    "\n",
    "relation_S = {(1, 2), (2, 3)}\n",
    "relation_R = {(1, 1), (1, 2), (1, 3), (3, 3)}\n",
    "\n",
    "print(\"Is relation S transitive?\", is_transitive(relation_S))\n",
    "print(\"Is relation R transitive?\", is_transitive(relation_R))"
   ]
  },
  {
   "cell_type": "markdown",
   "id": "c8657e79-e182-4272-89d9-a5b90d62d1bd",
   "metadata": {},
   "source": [
    "# END\n"
   ]
  },
  {
   "cell_type": "markdown",
   "id": "02ec31a1-d682-49ec-a3a6-8e2bd65f97d1",
   "metadata": {},
   "source": [
    "# 1.\n"
   ]
  },
  {
   "cell_type": "markdown",
   "id": "dcb413f5-d088-4286-ac73-bc49c945174c",
   "metadata": {},
   "source": [
    "\"* Given $A = \\\\{1,2,3,4\\\\}$ and $B=\\\\{x,y,z\\\\}$. Let $R$ be a relation from $A \\to B$:\"\\,"
   ]
  },
  {
   "cell_type": "markdown",
   "id": "b43594eb-50dc-43b6-9af4-c070e805abd6",
   "metadata": {},
   "source": [
    "\\begin{equation}\n",
    "\\textbf{R} = \\{\n",
    "\\{1,y\\},\\{1,z\\},\\{3,y\\},\\{4,x\\},\\{4,z\\}\n",
    "\\}\n",
    "\\end{equation}"
   ]
  },
  {
   "cell_type": "markdown",
   "id": "10cbf5ec-d138-49c7-9333-959d2ad1aea1",
   "metadata": {},
   "source": [
    "1. Find all $aRb$.\n",
    "2. Find $R^{-1}$.\n",
    "3. Determine the domain and range of $R$,$R$.\n",
    "4. Check if $R$ is a reflexive relation.\n",
    "5. Check if $R$ is a symmetric relation."
   ]
  },
  {
   "cell_type": "markdown",
   "id": "b4d6f67a-6976-49d9-bc3a-cc1827afc919",
   "metadata": {},
   "source": [
    "# ANSWER\n",
    "1. **{1,y}, {1,z}, {3,y}, {4,x}, {4,z}**\n",
    "\n",
    "2. **\\{y,1\\}, \\{z,1\\}, \\{y,3\\}, \\{x,4\\}, \\{z,4\\}**\n",
    "\n",
    "3. The domain of $R$ is {1,3,4}, and the range {x,y,z} \n",
    "\n",
    "4. For $a = 1$, check if $(1,1)$ is in $R.$   **IT IS NOT** Reflexive\n",
    "   \n",
    "   For $a = 3$, check if $(3,3)$ is in $R.$   **IT IS NOT** Reflexive\n",
    "   \n",
    "   For $a = 4$, check if $(4,4)$ is in $R.$   **IT IS NOT** Reflexive\n",
    "   <br>\n",
    "   <br>"
   ]
  },
  {
   "cell_type": "code",
   "execution_count": 8,
   "id": "46fdad15-9b8e-4ea3-be14-619ed8daaeba",
   "metadata": {},
   "outputs": [
    {
     "name": "stdout",
     "output_type": "stream",
     "text": [
      "The relation R is not reflexive.\n"
     ]
    }
   ],
   "source": [
    "# PYTHONIC SOLUTION\n",
    "R = {(1, 'y'), (1, 'z'), (3, 'y'), (4, 'x'), (4, 'z')}\n",
    "\n",
    "# Define the set of elements 'A' in your relation\n",
    "A = {1, 3, 4}  # Extract unique elements from R\n",
    "\n",
    "# Check if (a, a) exists for all 'a' in A\n",
    "is_reflexive = all((a, a) in R for a in A)\n",
    "\n",
    "# Print the result\n",
    "if is_reflexive:\n",
    "    print(\"The relation R is reflexive.\")\n",
    "else:\n",
    "    print(\"The relation R is not reflexive.\")"
   ]
  },
  {
   "cell_type": "markdown",
   "id": "728f14bc-46b3-4282-b76e-8b561bab9458",
   "metadata": {},
   "source": [
    "<br>\n",
    "\n",
    "**5.** <br> $(1,y)$ is in R, but $(y,1)$ is not in R. Therefore, R **is not** symmetric. <br>\n",
    "\n",
    "\n",
    "\n",
    "   $(1,z)$ is in R, but $(z,1)$ is not in R. Therefore, R **is not** symmetric.\n",
    "\n",
    "   $(3,y)$ is in R, but $(y,3)$ is not in R. Therefore, R **is not** symmetric.\n",
    "\n",
    "   $(4,x)$ is in R, but $(x,4)$ is not in R. Therefore, R **is not** symmetric.\n",
    "\n",
    "   $(4,z)$ is in R, but $(z,4)$ is not in R. Therefore, R **is not** symmetric.\n",
    "<br>\n",
    "<br>\n",
    "\n",
    "# END OF ANSWER\n",
    "# 2."
   ]
  },
  {
   "cell_type": "markdown",
   "id": "731244bc-541e-4e70-a4ca-55b0c3cb7a18",
   "metadata": {},
   "source": [
    "* Given $A = \\{1,2,3,4\\}$,$B=\\{a,b,c\\}$, and $C=\\{x,y,z\\}$. Let $R$ be a relation from $A \\to B$:\n",
    "\\begin{equation}\n",
    "\\textbf{R} = \\{\n",
    "\\{1,b\\},\\{2,a\\},\\{2,c\\}\n",
    "\\}\n",
    "\\end{equation}\n",
    "<br>\n",
    "Also Let $S$ be a relation from $B \\to C$:\n",
    "\\begin{equation}\n",
    "\\textbf{S} = \\{\n",
    "\\{a,y\\},\\{b,x\\},\\{c,y\\},,\\{c,z\\}\n",
    "\\}\n",
    "\\end{equation}"
   ]
  },
  {
   "cell_type": "markdown",
   "id": "54fc334a-a898-428a-8672-3a1b8bfe0d21",
   "metadata": {},
   "source": [
    "1. Find the composition relation $\\textbf{R}\\circ\\textbf{S}$.\n",
    "2. Find $R^{-1}$.\n",
    "3. Find $S^{-1}$.\n",
    "4. Determine the domain and range of $R$.\n",
    "5. Check if $R$ is a reflexive relation.\n",
    "6. Check if $R$ is a symmetric relation.\n",
    "7. Determine the domain and range of $S$.\n",
    "8. Check if $S$ is a reflexive relation.\n",
    "9. Check if $S$ is a symmetric relation.\n",
    "   <br>\n",
    "   <br>\n",
    "# ANSWER"
   ]
  },
  {
   "cell_type": "markdown",
   "id": "9f80419b-46ea-475b-9f9a-6f6030586cb7",
   "metadata": {},
   "source": [
    "1.  $R∘S$ = {$1,x$}, {{$2,y$}, {$2,z$}\n",
    "2.  $R^{-1}$ = {{2,b}, {a,2}, {c,2}}\n",
    "3.  $S^{-1}$ = {{y,a}, {x,b}, {y,c}, {z,c}\n",
    "4.  The domain of $R$ is {1,2} and the range is {a,b,c}\n",
    "5.  In relation R, there is no pair to form (a,a) for all elements $a$ in the set $A$ =  {1,2,3,4}\n",
    "   since there are no pairs relation $R$ **IS NOT** reflexive.\n"
   ]
  },
  {
   "cell_type": "code",
   "execution_count": 11,
   "id": "36e3c447-f627-4b14-843e-8b881da114dc",
   "metadata": {},
   "outputs": [
    {
     "name": "stdout",
     "output_type": "stream",
     "text": [
      "Relation R is not reflexive.\n"
     ]
    }
   ],
   "source": [
    "R = {(1, 'b'), (2, 'a'), (2, 'c')}\n",
    "A = {1, 2, 3, 4}\n",
    "\n",
    "is_reflexive = all((a, a) in R for a in A)\n",
    "\n",
    "if is_reflexive:\n",
    "    print(\"Relation R is reflexive.\")\n",
    "else:\n",
    "    print(\"Relation R is not reflexive.\")"
   ]
  },
  {
   "cell_type": "markdown",
   "id": "30a83c53-e12c-47a3-bce4-319d0f778fc0",
   "metadata": {},
   "source": [
    "6.  There are no pairs in $R$ for which their corresponding reverse pairs are not in $R$, we can conclude that relation $R$ **IS NOT** symmetric"
   ]
  },
  {
   "cell_type": "code",
   "execution_count": 12,
   "id": "e75d9dc4-2ae6-466c-8b2b-aff29909ea08",
   "metadata": {},
   "outputs": [
    {
     "name": "stdout",
     "output_type": "stream",
     "text": [
      "Relation R is not symmetric.\n"
     ]
    }
   ],
   "source": [
    "R = {(1, 'b'), (2, 'a'), (2, 'c')}\n",
    "\n",
    "is_symmetric = all((b, a) in R for a, b in R)\n",
    "\n",
    "if is_symmetric:\n",
    "    print(\"Relation R is symmetric.\")\n",
    "else:\n",
    "    print(\"Relation R is not symmetric.\")"
   ]
  },
  {
   "cell_type": "markdown",
   "id": "26fd2601-cbee-4cbd-aea6-4e1531fe2d11",
   "metadata": {},
   "source": [
    "7. The domain of $S$ is {a,b,c} and the range of $S$ is {x,y,z}"
   ]
  },
  {
   "cell_type": "markdown",
   "id": "d34cbeca-9595-4c7c-a685-85db78e6d09d",
   "metadata": {},
   "source": [
    "8. There are no pair to form (a,a) for all elements. Therefore it **IS NOT** reflexive.\n",
    "   "
   ]
  },
  {
   "cell_type": "code",
   "execution_count": 13,
   "id": "312b75f8-ae11-4ee4-ab18-658f17ebd650",
   "metadata": {},
   "outputs": [
    {
     "name": "stdout",
     "output_type": "stream",
     "text": [
      "Relation S is not reflexive within set B.\n",
      "Relation S is not reflexive within set C.\n"
     ]
    }
   ],
   "source": [
    "S = {('a', 'y'), ('b', 'x'), ('c', 'y'), ('c', 'z')}\n",
    "\n",
    "B = {'a', 'b', 'c'}\n",
    "\n",
    "C = {'x', 'y', 'z'}\n",
    "\n",
    "is_reflexive_B = all((a, a) in S for a in B)\n",
    "is_reflexive_C = all((c, c) in S for c in C)\n",
    "\n",
    "if is_reflexive_B:\n",
    "    print(\"Relation S is reflexive within set B.\")\n",
    "else:\n",
    "    print(\"Relation S is not reflexive within set B.\")\n",
    "\n",
    "if is_reflexive_C:\n",
    "    print(\"Relation S is reflexive within set C.\")\n",
    "else:\n",
    "    print(\"Relation S is not reflexive within set C.\")"
   ]
  },
  {
   "cell_type": "markdown",
   "id": "580f230f-f3bc-4e02-adfd-0ec788c97db2",
   "metadata": {},
   "source": [
    "9. Since there are pairs in $S$ for which their corresponding reverse pairs are not in $S$, we can conclude that relation $S$ is **not** symmetric."
   ]
  },
  {
   "cell_type": "code",
   "execution_count": 14,
   "id": "042c5d38-16d5-4455-8d31-20078017abcb",
   "metadata": {},
   "outputs": [
    {
     "name": "stdout",
     "output_type": "stream",
     "text": [
      "Relation S is not symmetric within set B.\n"
     ]
    }
   ],
   "source": [
    "S = {('a', 'y'), ('b', 'x'), ('c', 'y'), ('c', 'z')}\n",
    "\n",
    "is_symmetric = True\n",
    "\n",
    "for pair in S:\n",
    "    reverse_pair = (pair[1], pair[0])  # Create the reverse pair (b, a) -> (a, b)\n",
    "    if reverse_pair not in S:\n",
    "        is_symmetric = False\n",
    "        break\n",
    "        \n",
    "if is_symmetric:\n",
    "    print(\"Relation S is symmetric within set B.\")\n",
    "else:\n",
    "    print(\"Relation S is not symmetric within set B.\")"
   ]
  },
  {
   "cell_type": "markdown",
   "id": "7f17d1b7-e1ab-43a4-9842-28ee388ddd47",
   "metadata": {},
   "source": [
    "# END OF ANSWER\n",
    "# 3.\n"
   ]
  },
  {
   "cell_type": "markdown",
   "id": "e79ef197-2fcf-491d-a14f-c1a912adc0e4",
   "metadata": {},
   "source": [
    "* Given $A = \\{1,2,3,4\\}$. Let $R$ be a relation from $A \\to B$:\n",
    "\\begin{equation}\n",
    "\\textbf{R} = \\{\n",
    "\\{1,1\\},\\{2,2\\},\\{2,3\\},\\{3,2\\},\\{4,2\\},\\{4,4\\}\n",
    "\\}\n",
    "\\end{equation}\n",
    "<br>\n",
    "1. Find the composition relation $\\textbf{R}\\circ\\textbf{R}$.<br>\n",
    "2. Draw the directed graph of $R^{-1}$.\n",
    "3. Draw the directed graph of $R$.<br><br><br>"
   ]
  },
  {
   "cell_type": "markdown",
   "id": "13a3e975-1806-4fe1-be8d-d622f08d12dc",
   "metadata": {},
   "source": [
    "# Answer \n",
    "1.  $\\textbf{R}\\circ\\textbf{R}$. = {\n",
    "{2, 2}, {2, 3}, {3, 2}, {3, 3}, {4, 2}, {4,3)}\n",
    "2.  directed graph of $R^{-1}$."
   ]
  },
  {
   "cell_type": "code",
   "execution_count": 5,
   "id": "62337446-16d4-4b8e-9345-e41b82743e77",
   "metadata": {},
   "outputs": [
    {
     "data": {
      "image/png": "[encoded data removed]",
      "text/plain": [
       "<Figure size 640x480 with 1 Axes>"
      ]
     },
     "metadata": {},
     "output_type": "display_data"
    }
   ],
   "source": [
    "import networkx as nx\n",
    "import matplotlib.pyplot as plt\n",
    "\n",
    "R = [(1, 1), (2, 2), (2, 3), (3, 2), (4, 2), (4, 4)]\n",
    "\n",
    "G = nx.DiGraph()\n",
    "\n",
    "for pair in R:\n",
    "    G.add_edge(pair[1], pair[0])\n",
    "\n",
    "pos = nx.spring_layout(G)  \n",
    "nx.draw(G, pos, with_labels=True, node_size=500, node_color='lightblue', font_size=10, font_color='black', arrowsize=20)\n",
    "\n",
    "plt.title(\"Directed Graph of R^-1\")\n",
    "plt.show()"
   ]
  },
  {
   "cell_type": "markdown",
   "id": "042d80b5-f079-492b-856d-00d0d4711bfe",
   "metadata": {},
   "source": [
    "3. directed graph of $R$"
   ]
  },
  {
   "cell_type": "code",
   "execution_count": 10,
   "id": "217412a3-3d0c-48d0-a084-8e232502b832",
   "metadata": {},
   "outputs": [
    {
     "data": {
      "image/png": "[encoded data removed]",
      "text/plain": [
       "<Figure size 640x480 with 1 Axes>"
      ]
     },
     "metadata": {},
     "output_type": "display_data"
    }
   ],
   "source": [
    "import networkx as nx\n",
    "import matplotlib.pyplot as plt\n",
    "\n",
    "R = [\n",
    "    (1, 1),\n",
    "    (2, 2),\n",
    "    (2, 3),\n",
    "    (3, 2),\n",
    "    (4, 2),\n",
    "    (4, 4),\n",
    "]\n",
    "\n",
    "\n",
    "G = nx.DiGraph()\n",
    "\n",
    "A = [1, 2, 3, 4]\n",
    "G.add_nodes_from(A)\n",
    "G.add_edges_from(R)\n",
    "\n",
    "pos = nx.spring_layout(G)  \n",
    "nx.draw(G, pos, with_labels=True, node_size=500, node_color=\"skyblue\", font_size=12, font_color=\"black\", font_weight=\"bold\", arrowsize=20)\n",
    "\n",
    "plt.title(\"Directed Graph of Relation R\")\n",
    "plt.axis('off')\n",
    "plt.show()"
   ]
  },
  {
   "cell_type": "markdown",
   "id": "5e38ca50-0744-4475-979b-a9642b6622b5",
   "metadata": {},
   "source": [
    "# END OF ANSWER\n",
    "# 4."
   ]
  },
  {
   "cell_type": "markdown",
   "id": "e808864c-120c-494d-809b-3ef5dca70d1e",
   "metadata": {},
   "source": [
    "* Let $R$ and $S$ be relations on $A = \\{1,2,3\\}$<br>\n",
    "let:<br>\n",
    "$\\textbf{R} = \\{\n",
    "\\{1,1\\},\\{1,2\\},\\{2,3\\},\\{3,1\\},\\{3,3\\}\n",
    "\\}$<br>\n",
    "let:<br>\n",
    "$\\textbf{S} = \\{\n",
    "\\{1,2\\},\\{1,3\\},\\{2,1\\},\\{3,3\\}\n",
    "\\}$<br>\n",
    "\n",
    "Find:<br>\n",
    "1. $R \\cup S$.<br>\n",
    "2. $R \\cap S$.<br>\n",
    "3. $R^{c}$.<br>\n",
    "4. $R \\circ S$.<br>\n",
    "5. $S \\circ S$.<br><br><br>\n",
    "# ANSWER"
   ]
  },
  {
   "cell_type": "markdown",
   "id": "d50abf8d-1220-49d2-a2a0-5e11398bb4a6",
   "metadata": {},
   "source": [
    "1. $R \\cup S$ = {(1,1),(1,2),(1,3),(2,1),(2,3),(3,1),(3,3)}\n",
    "2. $R \\cap S$ = {(1,2),(3,3)}\n",
    "3. $R^{c}$ = {(1,3), (2,1), (2,3), (3,2)}\n",
    "4. $R \\circ S$ = {(1,2),(2,3),(3,1),(3,3)}\n",
    "5. $S \\circ S$ ={(1,2), (1,3),(2,1), (3,3)}\n",
    "# END OF ANSWER"
   ]
  },
  {
   "cell_type": "markdown",
   "id": "4fd26d5f-5fd4-44e1-9395-019d973a66dc",
   "metadata": {},
   "source": [
    "* Consider the five relations on the set $A = \\{1,2,3\\}$:\n",
    "\\begin{equation}\n",
    "\\textbf{R} = \\{\n",
    "\\{1,1\\},\\{1,2\\},\\{1,3\\},\\{3,3\\}\n",
    "\\}\n",
    "\\end{equation}\n",
    "<br>\n",
    "\\begin{equation}\n",
    "\\textbf{S} = \\{\n",
    "\\{1,1\\},\\{1,2\\},\\{2,1\\},\\{2,2\\},\\{3,3\\}\n",
    "\\}\n",
    "\\end{equation}\n",
    "<br>\n",
    "\\begin{equation}\n",
    "\\textbf{T} = \\{\n",
    "\\{1,1\\},\\{1,2\\},\\{2,2\\},\\{2,3\\},\n",
    "\\}\n",
    "\\end{equation}\n",
    "<br>\n",
    "Which of the relations above are:<br>\n",
    "1. Reflexive.<br>\n",
    "2. Symmetric or anti-symmetric.<br>\n",
    "3. Transitive."
   ]
  },
  {
   "cell_type": "markdown",
   "id": "5ea0ee8f-7746-4989-9b38-36f55c2ed614",
   "metadata": {},
   "source": [
    "# ANSWER\n",
    "1. The relations above that is reflexive is relation S\n",
    "   Because it Contains the pairs (1, 1), (2, 2), and (3, 3), which satisfy the second condition for all elements in {1, 2, 3}. Therefore, it is reflexive.\n",
    "   "
   ]
  },
  {
   "cell_type": "code",
   "execution_count": 20,
   "id": "c2e60556-73f0-4292-abf9-b4547942980d",
   "metadata": {},
   "outputs": [
    {
     "name": "stdout",
     "output_type": "stream",
     "text": [
      "Is relation R reflexive? False\n",
      "Is relation S reflexive? True\n",
      "Is relation T reflexive? False\n"
     ]
    }
   ],
   "source": [
    "A = {1, 2, 3}\n",
    "\n",
    "R = {(1, 1), (1, 2), (1, 3), (3, 3)}\n",
    "S = {(1, 1), (1, 2), (2, 1), (2, 2), (3, 3)}\n",
    "T = {(1, 1), (1, 2), (2, 2), (2, 3)}\n",
    "\n",
    "def is_reflexive(relation, set_A):\n",
    "    for element in set_A:\n",
    "        if (element, element) not in relation:\n",
    "            return False\n",
    "    return True\n",
    "    \n",
    "is_R_reflexive = is_reflexive(R, A)\n",
    "is_S_reflexive = is_reflexive(S, A)\n",
    "is_T_reflexive = is_reflexive(T, A)\n",
    "\n",
    "print(\"Is relation R reflexive?\", is_R_reflexive)\n",
    "print(\"Is relation S reflexive?\", is_S_reflexive)\n",
    "print(\"Is relation T reflexive?\", is_T_reflexive)"
   ]
  },
  {
   "cell_type": "markdown",
   "id": "d60c5e6f-e697-4aae-91ec-326fd1b37aa5",
   "metadata": {},
   "source": [
    "2. Symmetric\n",
    "   Relation S\n",
    "\n",
    "   Anti-Symmetric\n",
    "   Relation R and Relation T."
   ]
  },
  {
   "cell_type": "code",
   "execution_count": 18,
   "id": "4f96a139-4f63-4fed-beb1-496a1b7acb15",
   "metadata": {},
   "outputs": [
    {
     "name": "stdout",
     "output_type": "stream",
     "text": [
      "Is relation R symmetric? False\n",
      "Is relation R anti-symmetric? True\n",
      "Is relation S symmetric? True\n",
      "Is relation S anti-symmetric? False\n",
      "Is relation T symmetric? False\n",
      "Is relation T anti-symmetric? True\n"
     ]
    }
   ],
   "source": [
    "R = {(1, 1), (1, 2), (1, 3), (3, 3)}\n",
    "S = {(1, 1), (1, 2), (2, 1), (2, 2), (3, 3)}\n",
    "T = {(1, 1), (1, 2), (2, 2), (2, 3)}\n",
    "\n",
    "def is_symmetric(relation):\n",
    "    for (a, b) in relation:\n",
    "        if (b, a) not in relation:\n",
    "            return False\n",
    "    return True\n",
    "\n",
    "def is_anti_symmetric(relation):\n",
    "    for (a, b) in relation:\n",
    "        if a != b and ((b, a) in relation):\n",
    "            return False\n",
    "    return True\n",
    "\n",
    "is_R_symmetric = is_symmetric(R)\n",
    "is_R_anti_symmetric = is_anti_symmetric(R)\n",
    "\n",
    "is_S_symmetric = is_symmetric(S)\n",
    "is_S_anti_symmetric = is_anti_symmetric(S)\n",
    "\n",
    "is_T_symmetric = is_symmetric(T)\n",
    "is_T_anti_symmetric = is_anti_symmetric(T)\n",
    "\n",
    "print(\"Is relation R symmetric?\", is_R_symmetric)\n",
    "print(\"Is relation R anti-symmetric?\", is_R_anti_symmetric)\n",
    "\n",
    "print(\"Is relation S symmetric?\", is_S_symmetric)\n",
    "print(\"Is relation S anti-symmetric?\", is_S_anti_symmetric)\n",
    "\n",
    "print(\"Is relation T symmetric?\", is_T_symmetric)\n",
    "print(\"Is relation T anti-symmetric?\", is_T_anti_symmetric)"
   ]
  },
  {
   "cell_type": "markdown",
   "id": "6b34b01c-e4f3-4de7-bf46-06e3a44d523a",
   "metadata": {},
   "source": [
    "3. The relations that are transitive is S and R"
   ]
  },
  {
   "cell_type": "code",
   "execution_count": 5,
   "id": "1ed9e437-a8c3-4cb5-95d6-987aa7b33df6",
   "metadata": {},
   "outputs": [
    {
     "name": "stdout",
     "output_type": "stream",
     "text": [
      "Is relation R transitive? True\n",
      "Is relation S transitive? True\n",
      "Is relation T transitive? False\n"
     ]
    }
   ],
   "source": [
    "R = {(1, 1), (1, 2), (1, 3), (3, 3)}\n",
    "S = {(1, 1), (1, 2), (2, 1), (2, 2), (3, 3)}\n",
    "T = {(1, 1), (1, 2), (2, 2), (2, 3)}\n",
    "\n",
    "def is_transitive(relation):\n",
    "    for (a, b) in relation:\n",
    "        for (c, d) in relation:\n",
    "            if b == c and (a, d) not in relation:\n",
    "                return False\n",
    "    return True\n",
    "\n",
    "is_R_transitive = is_transitive(R)\n",
    "is_S_transitive = is_transitive(S)\n",
    "is_T_transitive = is_transitive(T)\n",
    "\n",
    "print(\"Is relation R transitive?\", is_R_transitive)\n",
    "print(\"Is relation S transitive?\", is_S_transitive)\n",
    "print(\"Is relation T transitive?\", is_T_transitive)"
   ]
  },
  {
   "cell_type": "markdown",
   "id": "dc66c574-aaa2-4c0f-99b2-5a811275520d",
   "metadata": {},
   "source": [
    "# END OF ANSWER"
   ]
  },
  {
   "cell_type": "code",
   "execution_count": null,
   "id": "0fa8a0e6-33fe-4994-ab79-de1a7cb9b7c6",
   "metadata": {},
   "outputs": [],
   "source": []
  }
 ],
 "metadata": {
  "kernelspec": {
   "display_name": "Python 3 (ipykernel)",
   "language": "python",
   "name": "python3"
  },
  "language_info": {
   "codemirror_mode": {
    "name": "ipython",
    "version": 3
   },
   "file_extension": ".py",
   "mimetype": "text/x-python",
   "name": "python",
   "nbconvert_exporter": "python",
   "pygments_lexer": "ipython3",
   "version": "3.11.0"
  }
 },
 "nbformat": 4,
 "nbformat_minor": 5
}
